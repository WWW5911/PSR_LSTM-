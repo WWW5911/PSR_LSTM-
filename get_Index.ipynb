{
 "metadata": {
  "language_info": {
   "codemirror_mode": {
    "name": "ipython",
    "version": 3
   },
   "file_extension": ".py",
   "mimetype": "text/x-python",
   "name": "python",
   "nbconvert_exporter": "python",
   "pygments_lexer": "ipython3",
   "version": "3.7.0-final"
  },
  "orig_nbformat": 2,
  "kernelspec": {
   "name": "python3",
   "display_name": "Python 3.7.0 64-bit",
   "metadata": {
    "interpreter": {
     "hash": "9008f095b6d9f8baa47329a03077bf6a79ec26dfb571d886f714cf570b311ca4"
    }
   }
  }
 },
 "nbformat": 4,
 "nbformat_minor": 2,
 "cells": [
  {
   "cell_type": "code",
   "execution_count": 2,
   "metadata": {},
   "outputs": [],
   "source": [
    "import pandas as pd\n",
    "from datetime import datetime\n",
    "from pandas_datareader import data as web\n",
    "import fix_yahoo_finance as yf\n",
    "\n",
    "yf.pdr_override()\n"
   ]
  },
  {
   "cell_type": "code",
   "execution_count": 3,
   "metadata": {},
   "outputs": [],
   "source": [
    "start = \"2000-01-01\"\n",
    "end = datetime.today().strftime('%Y-%m-%d')\n",
    "\n",
    "\"\"\"\n",
    "Nasdaq: ^IXIC,\n",
    "PHLX Semiconductor: ^SOX,\n",
    "S&P 500: ^GSPC,\n",
    "Dow Jones: ^DJI,\n",
    "HANG SENG: ^HSI,\n",
    "SHA 000001: 000001.SS,\n",
    "NIKKEI: ^N225,\n",
    "GERMAN DAX: ^GDAXI,\n",
    "TAIPEI: ^TWII,\n",
    "KOREA: ^KS11 \n",
    "\"\"\"\n",
    "\n",
    "\n",
    "markets = (\"^GSPC\", \"^DJI\")\n"
   ]
  },
  {
   "cell_type": "code",
   "execution_count": 4,
   "metadata": {},
   "outputs": [
    {
     "output_type": "stream",
     "name": "stdout",
     "text": [
      "[*********************100%***********************]  1 of 1 downloaded\n",
      "[*********************100%***********************]  1 of 1 downloaded\n"
     ]
    }
   ],
   "source": [
    "allData = []\n",
    "for market in markets:\n",
    "    tw = web.get_data_yahoo(market, start = start, end = end)\n",
    "    tw.rename(columns = {\"Open\" : \"Open\" + market,\n",
    "                        \"High\" : \"High\" + market,\n",
    "                        \"Low\" : \"Low\" + market,\n",
    "                        \"Close\" : \"Close\" + market,\n",
    "                        \"Adj Close\" : \"AClose\" + market,\n",
    "                        \"Volume\" : \"Volume\" + market}, inplace = True)\n",
    "    allData.append(tw)\n",
    "power = pd.concat(allData, axis = 1)\n",
    "power.reset_index(inplace = True)\n"
   ]
  },
  {
   "cell_type": "code",
   "execution_count": 5,
   "metadata": {},
   "outputs": [
    {
     "output_type": "execute_result",
     "data": {
      "text/plain": [
       "           Date  Open^GSPC  High^GSPC  Low^GSPC  Close^GSPC  AClose^GSPC  \\\n",
       "0    1999-12-31    1464.47    1472.42   1458.19     1469.25      1469.25   \n",
       "1    2000-01-03    1469.25    1478.00   1438.36     1455.22      1455.22   \n",
       "2    2000-01-04    1455.22    1455.22   1397.43     1399.42      1399.42   \n",
       "3    2000-01-05    1399.42    1413.27   1377.68     1402.11      1402.11   \n",
       "4    2000-01-06    1402.11    1411.90   1392.10     1403.45      1403.45   \n",
       "...         ...        ...        ...       ...         ...          ...   \n",
       "5329 2021-03-09    3851.93    3903.76   3851.93     3875.44      3875.44   \n",
       "5330 2021-03-10    3891.99    3917.35   3885.73     3898.81      3898.81   \n",
       "5331 2021-03-11    3915.54    3960.27   3915.54     3939.34      3939.34   \n",
       "5332 2021-03-12    3924.52    3944.99   3915.21     3943.34      3943.34   \n",
       "5333 2021-03-15    3942.96    3949.99   3923.54     3943.02      3943.02   \n",
       "\n",
       "      Volume^GSPC  Open^DJI  High^DJI   Low^DJI  Close^DJI  AClose^DJI  \\\n",
       "0       374050000  11453.48  11542.41  11442.82   11497.12    11497.12   \n",
       "1       931800000  11501.85  11522.01  11305.69   11357.51    11357.51   \n",
       "2      1009000000  11349.75  11350.06  10986.45   10997.93    10997.93   \n",
       "3      1085500000  10989.37  11215.10  10938.67   11122.65    11122.65   \n",
       "4      1092300000  11113.37  11313.45  11098.45   11253.26    11253.26   \n",
       "...           ...       ...       ...       ...        ...         ...   \n",
       "5329   5496340000  31892.35  32150.32  31822.64   31832.74    31832.74   \n",
       "5330   5827250000  31906.96  32389.50  31906.96   32297.02    32297.02   \n",
       "5331   5300010000  32354.50  32661.59  32345.70   32485.59    32485.59   \n",
       "5332   4469240000  32462.40  32793.32  32462.40   32778.64    32778.64   \n",
       "5333   1204291308  32798.84  32931.06  32629.75   32811.78    32811.78   \n",
       "\n",
       "      Volume^DJI  \n",
       "0       43620000  \n",
       "1      169750000  \n",
       "2      178420000  \n",
       "3      203190000  \n",
       "4      176550000  \n",
       "...          ...  \n",
       "5329   458690000  \n",
       "5330   409110000  \n",
       "5331   400020000  \n",
       "5332   346400000  \n",
       "5333   180939612  \n",
       "\n",
       "[5334 rows x 13 columns]"
      ],
      "text/html": "<div>\n<style scoped>\n    .dataframe tbody tr th:only-of-type {\n        vertical-align: middle;\n    }\n\n    .dataframe tbody tr th {\n        vertical-align: top;\n    }\n\n    .dataframe thead th {\n        text-align: right;\n    }\n</style>\n<table border=\"1\" class=\"dataframe\">\n  <thead>\n    <tr style=\"text-align: right;\">\n      <th></th>\n      <th>Date</th>\n      <th>Open^GSPC</th>\n      <th>High^GSPC</th>\n      <th>Low^GSPC</th>\n      <th>Close^GSPC</th>\n      <th>AClose^GSPC</th>\n      <th>Volume^GSPC</th>\n      <th>Open^DJI</th>\n      <th>High^DJI</th>\n      <th>Low^DJI</th>\n      <th>Close^DJI</th>\n      <th>AClose^DJI</th>\n      <th>Volume^DJI</th>\n    </tr>\n  </thead>\n  <tbody>\n    <tr>\n      <th>0</th>\n      <td>1999-12-31</td>\n      <td>1464.47</td>\n      <td>1472.42</td>\n      <td>1458.19</td>\n      <td>1469.25</td>\n      <td>1469.25</td>\n      <td>374050000</td>\n      <td>11453.48</td>\n      <td>11542.41</td>\n      <td>11442.82</td>\n      <td>11497.12</td>\n      <td>11497.12</td>\n      <td>43620000</td>\n    </tr>\n    <tr>\n      <th>1</th>\n      <td>2000-01-03</td>\n      <td>1469.25</td>\n      <td>1478.00</td>\n      <td>1438.36</td>\n      <td>1455.22</td>\n      <td>1455.22</td>\n      <td>931800000</td>\n      <td>11501.85</td>\n      <td>11522.01</td>\n      <td>11305.69</td>\n      <td>11357.51</td>\n      <td>11357.51</td>\n      <td>169750000</td>\n    </tr>\n    <tr>\n      <th>2</th>\n      <td>2000-01-04</td>\n      <td>1455.22</td>\n      <td>1455.22</td>\n      <td>1397.43</td>\n      <td>1399.42</td>\n      <td>1399.42</td>\n      <td>1009000000</td>\n      <td>11349.75</td>\n      <td>11350.06</td>\n      <td>10986.45</td>\n      <td>10997.93</td>\n      <td>10997.93</td>\n      <td>178420000</td>\n    </tr>\n    <tr>\n      <th>3</th>\n      <td>2000-01-05</td>\n      <td>1399.42</td>\n      <td>1413.27</td>\n      <td>1377.68</td>\n      <td>1402.11</td>\n      <td>1402.11</td>\n      <td>1085500000</td>\n      <td>10989.37</td>\n      <td>11215.10</td>\n      <td>10938.67</td>\n      <td>11122.65</td>\n      <td>11122.65</td>\n      <td>203190000</td>\n    </tr>\n    <tr>\n      <th>4</th>\n      <td>2000-01-06</td>\n      <td>1402.11</td>\n      <td>1411.90</td>\n      <td>1392.10</td>\n      <td>1403.45</td>\n      <td>1403.45</td>\n      <td>1092300000</td>\n      <td>11113.37</td>\n      <td>11313.45</td>\n      <td>11098.45</td>\n      <td>11253.26</td>\n      <td>11253.26</td>\n      <td>176550000</td>\n    </tr>\n    <tr>\n      <th>...</th>\n      <td>...</td>\n      <td>...</td>\n      <td>...</td>\n      <td>...</td>\n      <td>...</td>\n      <td>...</td>\n      <td>...</td>\n      <td>...</td>\n      <td>...</td>\n      <td>...</td>\n      <td>...</td>\n      <td>...</td>\n      <td>...</td>\n    </tr>\n    <tr>\n      <th>5329</th>\n      <td>2021-03-09</td>\n      <td>3851.93</td>\n      <td>3903.76</td>\n      <td>3851.93</td>\n      <td>3875.44</td>\n      <td>3875.44</td>\n      <td>5496340000</td>\n      <td>31892.35</td>\n      <td>32150.32</td>\n      <td>31822.64</td>\n      <td>31832.74</td>\n      <td>31832.74</td>\n      <td>458690000</td>\n    </tr>\n    <tr>\n      <th>5330</th>\n      <td>2021-03-10</td>\n      <td>3891.99</td>\n      <td>3917.35</td>\n      <td>3885.73</td>\n      <td>3898.81</td>\n      <td>3898.81</td>\n      <td>5827250000</td>\n      <td>31906.96</td>\n      <td>32389.50</td>\n      <td>31906.96</td>\n      <td>32297.02</td>\n      <td>32297.02</td>\n      <td>409110000</td>\n    </tr>\n    <tr>\n      <th>5331</th>\n      <td>2021-03-11</td>\n      <td>3915.54</td>\n      <td>3960.27</td>\n      <td>3915.54</td>\n      <td>3939.34</td>\n      <td>3939.34</td>\n      <td>5300010000</td>\n      <td>32354.50</td>\n      <td>32661.59</td>\n      <td>32345.70</td>\n      <td>32485.59</td>\n      <td>32485.59</td>\n      <td>400020000</td>\n    </tr>\n    <tr>\n      <th>5332</th>\n      <td>2021-03-12</td>\n      <td>3924.52</td>\n      <td>3944.99</td>\n      <td>3915.21</td>\n      <td>3943.34</td>\n      <td>3943.34</td>\n      <td>4469240000</td>\n      <td>32462.40</td>\n      <td>32793.32</td>\n      <td>32462.40</td>\n      <td>32778.64</td>\n      <td>32778.64</td>\n      <td>346400000</td>\n    </tr>\n    <tr>\n      <th>5333</th>\n      <td>2021-03-15</td>\n      <td>3942.96</td>\n      <td>3949.99</td>\n      <td>3923.54</td>\n      <td>3943.02</td>\n      <td>3943.02</td>\n      <td>1204291308</td>\n      <td>32798.84</td>\n      <td>32931.06</td>\n      <td>32629.75</td>\n      <td>32811.78</td>\n      <td>32811.78</td>\n      <td>180939612</td>\n    </tr>\n  </tbody>\n</table>\n<p>5334 rows × 13 columns</p>\n</div>"
     },
     "metadata": {},
     "execution_count": 5
    }
   ],
   "source": [
    "power"
   ]
  },
  {
   "cell_type": "code",
   "execution_count": 7,
   "metadata": {},
   "outputs": [],
   "source": [
    "power.to_csv(\"./index_data/near_20_years.csv\", index=False)"
   ]
  },
  {
   "cell_type": "code",
   "execution_count": null,
   "metadata": {},
   "outputs": [],
   "source": []
  }
 ]
}